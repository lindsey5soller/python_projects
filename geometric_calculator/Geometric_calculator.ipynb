{
  "nbformat": 4,
  "nbformat_minor": 0,
  "metadata": {
    "colab": {
      "name": "Geometric_calculator.ipynb",
      "provenance": []
    },
    "kernelspec": {
      "name": "python3",
      "display_name": "Python 3"
    }
  },
  "cells": [
    {
      "cell_type": "markdown",
      "metadata": {
        "id": "PcgTNQ_cnnDU"
      },
      "source": [
        "This is tutorial, all code to run this geometric calculator\n",
        "\n",
        "Run the first cell to inport numpy and math"
      ]
    },
    {
      "cell_type": "code",
      "metadata": {
        "id": "iQPMzV23Jdp1"
      },
      "source": [
        "import math\n",
        "import numpy as np"
      ],
      "execution_count": 1,
      "outputs": []
    },
    {
      "cell_type": "markdown",
      "metadata": {
        "id": "6yzw7HyWLQQ9"
      },
      "source": [
        "##Formulas "
      ]
    },
    {
      "cell_type": "markdown",
      "metadata": {
        "id": "YbGopcczzTpM"
      },
      "source": [
        "#Run the next 3 code cells then don't do anything with them"
      ]
    },
    {
      "cell_type": "code",
      "metadata": {
        "id": "Er6kfqgcSyfg"
      },
      "source": [
        "class Circle():\n",
        "  def __int__(self):\n",
        "    pass\n",
        "\n",
        "  def circle(self, radius):\n",
        "    self.radius = radius\n",
        "    circ_diamater = radius * 2\n",
        "    circ_circumferance = 2 * 3.1415 * radius\n",
        "    circ_area = 3.1415 * radius ** 2\n",
        "    return f'The diamater is {circ_diamater}, the circumferance is {circ_circumferance}, and the area is {circ_area}.'\n",
        "\n",
        "  def cone (radius, height):\n",
        "    cone_slant = math.sqrt( radius ** 2 + height ** 2)\n",
        "    cone_surface_area = 3.1415 * radius * (radius + cone_slant)\n",
        "    cone_volume = 3.1415 * radius ** 2 * height / 3\n",
        "    cone_area = 3.1415 * radius ** 2\n",
        "    cone_circumferance = 2 * 3.1415 * radius\n",
        "    return f'The area of the base is {cone_area}, and the circumferance of the base is {cone_circumferance}.\\n The surface area of the cone is {cone_surface_area}, the volume of the cone is {cone_volume},\\n and the slant is {cone_slant}.'\n",
        "\n",
        "  def cylinder(radius, height):\n",
        "    cyl_surface_area = 2 * radius * 3.1415 * height + 2 * 3.1415 * radius ** 2\n",
        "    cyl_volume = 3.1415 * radius ** 2 * height\n",
        "    cyl_lateral_surface = 2 * 3.1415 * radius * height\n",
        "    cyl_base_area = 3.1415 * radius ** 2\n",
        "    cyl_diameter = 2 * radius\n",
        "    return f'The diameter is {cyl_diameter}, and the base area is {cyl_base_area}. The volume is {cyl_volume},\\n the surface area is {cyl_surface_area}, and the lateral surface is {cyl_lateral_surface}.'\n"
      ],
      "execution_count": null,
      "outputs": []
    },
    {
      "cell_type": "code",
      "metadata": {
        "id": "BPqqHDECQkLm"
      },
      "source": [
        "class Triangle():\n",
        "  def __int__(self):\n",
        "    pass\n",
        "\n",
        "  def area(self, base, height):\n",
        "    self.base = base\n",
        "    self.height = height\n",
        "    area = self.base * self.height /2\n",
        "    return f'The area is {area}.'\n",
        "    \n",
        "  def perimeter(self, side_1, side_2, side_3):\n",
        "    self.side_1 = side_1\n",
        "    self.side_2 = side_2\n",
        "    self.side_3 = side_3\n",
        "    perimeter = side_1 + side_2 + side_3\n",
        "    return f'The perimeter is {perimeter}.'"
      ],
      "execution_count": null,
      "outputs": []
    },
    {
      "cell_type": "code",
      "metadata": {
        "id": "AbkLwiGxL8aO"
      },
      "source": [
        "class Rectangles():\n",
        "  def __int__(self):\n",
        "    pass\n",
        "\n",
        "  def rectangle(self, length, width):\n",
        "    rec_area = (length * width)\n",
        "    rec_perimeter = 2 * length + 2 * width\n",
        "    return f'The area is {rec_area}, and the perimeter is {rec_perimeter}'\n",
        "\n",
        "  def cube(self, length):\n",
        "    self.length = length\n",
        "    cube_area = length ** 3\n",
        "    cube_surface_area = 6 * length ** 2\n",
        "    return f'The volume is {cube_area}, and the surface area is {cube_surface_area}.'\n",
        "\n",
        "  def rectangular_prism(self, length, width, height):\n",
        "    self.length = length\n",
        "    self.width = width\n",
        "    self.height = height\n",
        "    recp_surface_area = 2 * (length * width + length * height + height * width)\n",
        "    recp_volume = width * length * height\n",
        "    recp_space_diagonal = math.sqrt(length ** 2 + width ** 2 + height ** 2)\n",
        "    return f'The surface area is {recp_surface_area}, the volume is {recp_volume}, and the space diagonal is {recp_space_diagonal}.'\n",
        "\n",
        "  def pyramid(self, width, length, height):\n",
        "    self.length = length\n",
        "    self.width = width\n",
        "    self.height = height\n",
        "    w = width \n",
        "    l = length\n",
        "    h = height\n",
        "    pyr_surface_area = l * w + l * math.sqrt((w / 2) ** 2 + h ** 2 + w) * math.sqrt((l / 2) ** 2 + h ** 2)\n",
        "    pyr_volume = l * w * h / 3\n",
        "    pyr_lateral_surface_area = l * math.sqrt((w / 2) ** 2 + h ** 2 + w) * math.sqrt ((l / 2) ** 2 + h ** 2)\n",
        "    pyr_base_area = l * w\n",
        "    return f'The base area is {pyr_base_area}. The surface area is {pyr_surface_area}, the lateral surface area is {pyr_lateral_surface_area}, and the volume is {pyr_volume}.'"
      ],
      "execution_count": null,
      "outputs": []
    },
    {
      "cell_type": "markdown",
      "metadata": {
        "id": "3oLI3Tx9zc1B"
      },
      "source": [
        "#Run the following code and answer the questions as the computer prompts you to"
      ]
    },
    {
      "cell_type": "code",
      "metadata": {
        "id": "WtcUS5m7WEBC",
        "colab": {
          "base_uri": "https://localhost:8080/"
        },
        "outputId": "377137c5-d103-4765-bcbb-137ffd4e584c"
      },
      "source": [
        "x = 1\n",
        "while x != 'stop':\n",
        "  #if x != ('1', '2', '3', '4', '5', '6', '7', '8', '9', '.', ','):\n",
        "    #print('Please enter an integer, and not a word or variable.')\n",
        "  x = str(input(\"\\nWhat shape do you want to solve?\\n\"))\n",
        "  if x.lower() == 'rectangle':\n",
        "    l = input(\"What is the length?\\n\")\n",
        "    w = input(\"What is the width?\\n\")\n",
        "    l = int(l)\n",
        "    w = int(w)\n",
        "    x = Rectangles()\n",
        "    print(x.rectangle(l, w))\n",
        "  elif x.lower() == 'triangle':\n",
        "    y = input('Do you want to find the area, perimeter, or both?\\n')\n",
        "    if y.lower() == 'area':\n",
        "      b = input('What is the legnth of the base?\\n')\n",
        "      h = input('What is the height?\\n')\n",
        "      b = int(b)\n",
        "      h = int(h)\n",
        "      t = Triangle()\n",
        "      print(t.area(b, h))\n",
        "    if y.lower() == 'perimeter':\n",
        "      s_1 = input('What is the legnth of side 1?\\n')\n",
        "      s_2 = input('What is the legnth of side 2?\\n')\n",
        "      s_3 = input('What is the legnth of side 3?\\n')\n",
        "      s_1 = int(s_1)\n",
        "      s_2 = int(s_2)\n",
        "      s_3 = int(s_3)\n",
        "      t = Triangle()\n",
        "      print(t.perimeter(s_1, s_2, s_3))\n",
        "    if y.lower() == 'both':\n",
        "      b = input('What is the base?\\n')\n",
        "      h = input('What is the height?\\n')\n",
        "      s_1 = input('What is the legnth of side 1?\\n')\n",
        "      s_2 = input('What is the legnth of side 2?\\n')\n",
        "      s_3 = input('What is the legnth of side 3?\\n')\n",
        "      s_1 = int(s_1)\n",
        "      s_2 = int(s_2)\n",
        "      s_3 = int(s_3)\n",
        "      b = int(b)\n",
        "      h = int(h)\n",
        "      y = Triangle()\n",
        "      print(y.perimeter(s_1, s_2, s_3), y.area(b, h))\n",
        "    else:\n",
        "      print('Please enter area, primeter, or both.\\n')\n",
        "  elif x.lower() == 'circle':\n",
        "    r = input('what is the radius?\\n')\n",
        "    r = int(r)\n",
        "    c = Circle()\n",
        "    print(c.circle(r))\n",
        "  elif x.lower() == 'cube':\n",
        "    l = input('What is the side legnth?\\n')\n",
        "    l = int(l)\n",
        "    x = Rectangles()\n",
        "    print(x.cube(l))\n",
        "  elif x.lower() == 'rectangular prism':\n",
        "    l = input('What is the length?\\n')\n",
        "    w = input('What is the width?\\n')\n",
        "    h = input('What is the height?\\n')\n",
        "    l = int(l)\n",
        "    h = int(h)\n",
        "    w = int(w)\n",
        "    x = Rectangles()\n",
        "    print(x.rectangular_prism(l, w, h))\n",
        "  elif x.lower() == 'pyramid':\n",
        "    l = input('What is the length?\\n')\n",
        "    w = input('What is the width?\\n')\n",
        "    h = input('What is the height?\\n')\n",
        "    l = int(l)\n",
        "    h = int(h)\n",
        "    w = int(w)\n",
        "    p = Rectangles()\n",
        "    print(p.pyramid(w, l, h))\n",
        "  elif x.lower() == 'cone':\n",
        "    r = input('What is the radius?\\n')\n",
        "    h = input('What is the height?\\n')\n",
        "    r = int(r)\n",
        "    h = int(h)\n",
        "    x = Circle\n",
        "    print(x.cone(r, h))\n",
        "  elif x.lower() == 'cylinder':\n",
        "    r = input('What is the radius?\\n')\n",
        "    h = input('What is the height?\\n')\n",
        "    r = int(r)\n",
        "    h = int(h)\n",
        "    x = Circle\n",
        "    print(x.cylinder(r, h))\n",
        "  elif x.lower() == 'stop':\n",
        "    break\n",
        "  else:\n",
        "    print('That is not a shape I can solve. Please enter rectangle, triangle, circle, cube, rectangular prisim, pyramid, cylinder,\\nor cone.')\n",
        "\n",
        "\n"
      ],
      "execution_count": null,
      "outputs": [
        {
          "output_type": "stream",
          "text": [
            " This is a geometic calculator. It will ask you for the numbers needed and then return an answer with the area,\n",
            " perimeter, surface area, ect. To solve a shape put in the values when prompted. The shapes it can solve are circle,\n",
            " cone, cylinder, triangle, rectangle, cube, rectangular prisim and pyramid. Type stop if you don't want any more \n",
            " shape/solutions. If you want a reminder of what the shapes are type anything that isn't a name of one of the shapes.\n"
          ],
          "name": "stdout"
        }
      ]
    },
    {
      "cell_type": "code",
      "metadata": {
        "id": "nckaanCthUCi"
      },
      "source": [
        ""
      ],
      "execution_count": null,
      "outputs": []
    }
  ]
}
